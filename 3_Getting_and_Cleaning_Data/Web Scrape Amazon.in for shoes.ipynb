{
 "cells": [
  {
   "cell_type": "code",
   "execution_count": 18,
   "metadata": {},
   "outputs": [],
   "source": [
    "# Practice problem: Scraping amazon.in to get shoe price data \n",
    "import pprint,requests,bs4\n",
    "import pandas as pd"
   ]
  },
  {
   "cell_type": "code",
   "execution_count": 30,
   "metadata": {},
   "outputs": [],
   "source": [
    "#constants\n",
    "url = \"https://www.amazon.in/s/ref=nb_sb_noss?url=search-alias%3Daps&field-keywords=sport+shoes\"\n",
    "brand_select_class = \".a-size-base-plus.a-color-base\"\n",
    "description_select_class= \".a-size-base-plus.a-color-base.a-text-normal\"\n",
    "price_select_class=\".a-price-whole\""
   ]
  },
  {
   "cell_type": "code",
   "execution_count": 69,
   "metadata": {},
   "outputs": [],
   "source": [
    "#column_to_class_mapping= {'Brand':brand_select_class,'Description':description_select_class,'Price':price_select_class}\n",
    "column_to_class_mapping= {'Brand':brand_select_class}"
   ]
  },
  {
   "cell_type": "code",
   "execution_count": 32,
   "metadata": {},
   "outputs": [],
   "source": [
    "def get_data_by_class(classText:any,soup:any):\n",
    "    return soup.select(classText)"
   ]
  },
  {
   "cell_type": "code",
   "execution_count": 67,
   "metadata": {},
   "outputs": [],
   "source": [
    "def split_data_by_span_class(classText:any,data:any):\n",
    "    try: return [str(r).split(\"</span>\")[0].split('<span class=\"'+classText+'\">')[1] for r in data]\n",
    "    except:print ([str(r).split(\"</span>\")[0].split('<span class=\"'+classText+'\">') for r in data])\n"
   ]
  },
  {
   "cell_type": "code",
   "execution_count": 95,
   "metadata": {},
   "outputs": [],
   "source": [
    "def scrape_website(url):\n",
    "    req = requests.get(url)\n",
    "    # create a bs4 object\n",
    "    # To avoid warnings, provide \"html5lib\" explicitly\n",
    "    #html.parser\n",
    "    return bs4.BeautifulSoup(req.content, \"lxml\")\n"
   ]
  },
  {
   "cell_type": "code",
   "execution_count": 73,
   "metadata": {},
   "outputs": [],
   "source": [
    "def get_data_frame_from_columns(column_to_class_map,scrape_response):\n",
    "    df = pd.DataFrame()\n",
    "    for column,class_name in column_to_class_map.items():\n",
    "        data_by_class = get_data_by_class(class_name,scrape_response)\n",
    "        actual_data = split_data_by_span_class(class_name.replace(\".\",\" \").lstrip(),data_by_class)\n",
    "        df[column] = pd.Series(actual_data)\n",
    "       \n",
    "    return df"
   ]
  },
  {
   "cell_type": "code",
   "execution_count": 155,
   "metadata": {},
   "outputs": [],
   "source": [
    "#Actual Run\n",
    "response = scrape_website(url)\n",
    "df = pd.DataFrame(columns=['Id','Brand','Description','Price','Discount','Rating','Total_Reviews','Free_Delivery'])\n",
    "df.set_index('Id')\n",
    "\n",
    "search = response.find_all(\"div\",  attrs={\"id\": 'search'})[0]\n",
    "product_spans = search.find_all(\"span\",attrs={\"class\": 'celwidget slot=MAIN template=SEARCH_RESULTS widgetId=search-results'})\n",
    "product_id=1\n",
    "for product in product_spans:\n",
    "    try:\n",
    "        brand = product.find(\"span\",attrs={\"class\":'a-size-base-plus a-color-base'}).string\n",
    "        description = product.find(\"span\",attrs={\"class\":'a-size-base-plus a-color-base a-text-normal'}).string\n",
    "        price = product.find(\"span\",attrs={\"class\":'a-price a-text-price'}).find(\"span\",attrs={\"aria-hidden\":'true'}).string.replace(',','').replace('₹','')\n",
    "        discount  = product.find(\"span\",attrs={\"class\":'a-price'}).find(\"span\",attrs={\"aria-hidden\":'true'}).find(\"span\",attrs={\"class\":'a-price-whole'}).string.replace(',','')\n",
    "        rating  = float(product.find(\"span\",attrs={\"class\":'a-icon-alt'}).string.split(\"out\")[0].strip())\n",
    "        num_of_reviews  = product.find(\"span\",attrs={\"class\":'a-size-base'}).string.replace(',','')\n",
    "        delivery_content  = product.find(\"div\",attrs={\"class\":'a-row a-size-base a-color-secondary s-align-children-center'}).string\n",
    "        is_free_deliver = delivery_content.lower().count(\"free delivery\") >0 \n",
    "    except AttributeError:\n",
    "\n",
    "           is_free_deliver = False\n",
    "    #row = pd.DataFrame.from_dict({'Brand':brand,'Description':description,'Price':price,'Discount':discount,'Rating':rating,'Number_Of_Reviews':num_of_reviews,'Delivery':delivery_content})\n",
    "    a_row = [product_id,brand,description,price,discount,rating,num_of_reviews,is_free_deliver]\n",
    "    #df= pd.concat([df,a_row],ignore_index=True)\n",
    "    df.loc[len(df)] = a_row\n",
    "    product_id +=1\n"
   ]
  },
  {
   "cell_type": "code",
   "execution_count": 156,
   "metadata": {},
   "outputs": [
    {
     "name": "stdout",
     "output_type": "stream",
     "text": [
      "    Id                Brand  \\\n",
      "0    1                CLYMB   \n",
      "1    2                Sparx   \n",
      "2    3                Sparx   \n",
      "3    4                Sparx   \n",
      "4    5               Bourge   \n",
      "5    6               ALICON   \n",
      "6    7          A ANTIC MOP   \n",
      "7    8  WORLD WEAR FOOTWEAR   \n",
      "8    9               Ethics   \n",
      "9   10  WORLD WEAR FOOTWEAR   \n",
      "10  11                ASIAN   \n",
      "11  12                Sparx   \n",
      "12  13                Sparx   \n",
      "13  14                Sparx   \n",
      "14  15                Sparx   \n",
      "15  16                ASIAN   \n",
      "16  17  WORLD WEAR FOOTWEAR   \n",
      "17  18                 SEGA   \n",
      "18  19        White Walkers   \n",
      "19  20               Campus   \n",
      "20  21               Campus   \n",
      "21  22                Sparx   \n",
      "22  23              Sklodge   \n",
      "23  24               T-Rock   \n",
      "24  25                CLYMB   \n",
      "25  26                Sparx   \n",
      "26  27  WORLD WEAR FOOTWEAR   \n",
      "27  28                 Cogs   \n",
      "28  29                Sparx   \n",
      "29  30  WORLD WEAR FOOTWEAR   \n",
      "30  31               Campus   \n",
      "31  32               Reebok   \n",
      "32  33                Sparx   \n",
      "33  34               Reebok   \n",
      "34  35               Kraasa   \n",
      "35  36  WORLD WEAR FOOTWEAR   \n",
      "36  37                Sparx   \n",
      "37  38                ASIAN   \n",
      "38  39             GoldStar   \n",
      "39  40                Sparx   \n",
      "40  41  WORLD WEAR FOOTWEAR   \n",
      "41  42              Shoefly   \n",
      "42  43                 SEGA   \n",
      "43  44            MOUNTREXO   \n",
      "44  45                Sparx   \n",
      "45  46               Bourge   \n",
      "46  47  WORLD WEAR FOOTWEAR   \n",
      "47  48                Sparx   \n",
      "\n",
      "                                          Description    Price Discount  \\\n",
      "0           Outdoor Sports Running Shoes for Mens Boy      999      299   \n",
      "1                             Men SM-482 Sports Shoes     1349      944   \n",
      "2                            mens Sm-602 Running Shoe     1049      807   \n",
      "3                                  Men's Running Shoe     1049      807   \n",
      "4        Men's Loire-61 Navy and D.Grey Running Shoes     1499      522   \n",
      "5   Sports Shoes for Men | Lace up Lightweight Sho...     1499      499   \n",
      "6        Black Fashion Sport Men's Running Shoes(901)     1099      449   \n",
      "7   Men's (9212-9310) Multicolor Casual Sports Run...      998      499   \n",
      "8                                    mens Shoes Shoes      499      330   \n",
      "9   Men's (9228-9303-9098) Casual Sports Running S...      499      330   \n",
      "10   Men's Bullet-02 Walking,Sports,Gym,Running Shoes      599      489   \n",
      "11                          Men's Sm-663 Running Shoe      599      489   \n",
      "12                                Men's Running Shoes     1499     1049   \n",
      "13  Men's SM-614 Navy Blue Neon Orange Running Sho...     1049      807   \n",
      "14                        Men's Sx0171g Running Shoes     1499     1049   \n",
      "15               Men's Wonder-13 Sports Running Shoes      699      499   \n",
      "16      Men's (9303-9313) Casual Sports Running Shoes      699      499   \n",
      "17                               Sports Shoes for Men      949      679   \n",
      "18  Men's & Boys Multicolor Running Casual Sports ...      999      499   \n",
      "19                          Men's Wells Running Shoes      899      539   \n",
      "20                         Men's Oxyfit Running Shoes      799      559   \n",
      "21                            Men SM-614 Sports Shoes     1049      807   \n",
      "22  Men's Air Wonder Series Mesh Sports Casual Sho...      999      418   \n",
      "23                                 Men's Sports Shoes      999      312   \n",
      "24                                 Men's Running Shoe      999      499   \n",
      "25                         mens Sports_sm651 Platform      899      775   \n",
      "26           Men's (9307) Casual Sports Running Shoes      899      775   \n",
      "27  Men�s Pack of 2 Multicolor Casual Sneakers Spo...      899      775   \n",
      "28                                Men's Running Shoes      949      764   \n",
      "29                Men's Running Shoe (Set of 2 Pairs)      949      764   \n",
      "30                         Men's Styger Running Shoes     2799     1092   \n",
      "31                Men's Speed Runner Lp Running Shoes     2799     1166   \n",
      "32                          Men's Sm-657 Running Shoe     1399      994   \n",
      "33                         Men Guide Stride Run Shoes     2799     1064   \n",
      "34                                 Men's Running Shoe     2799     1064   \n",
      "35  Men's (1242-9310-5011) Multicolor Casual Sport...     2799     1064   \n",
      "36                       Men's Sm 651 Industrial Shoe      899      763   \n",
      "37  Men's Worldcup-03 Running,Sports,Gym,Phylon Sp...     1999     1349   \n",
      "38                           Unisex-adult Sports Shoe      999      690   \n",
      "39                          Men's Sm-677 Running Shoe     1049      875   \n",
      "40  Men's Multicolor (9098-9070) Casual Sports Run...     1049      875   \n",
      "41  Men Multicolour Latest Collection Sports Runni...     1049      875   \n",
      "42   Original Men's Brown Runner Outdoor Sports Shoes  1199.02      695   \n",
      "43  New by Sklodge Men's Air Wonder Series Mesh Ca...      999      449   \n",
      "44                        Men's Sx0421g Running Shoes      999      807   \n",
      "45                        mens Loire-z1 Running Shoes     1499      617   \n",
      "46      Men's (9332) Grey Casual Sports Running Shoes     1499      617   \n",
      "47          Men's Navy Orange Sports Running Shoes SM      949      799   \n",
      "\n",
      "    Rating Total_Reviews Free_Delivery  \n",
      "0      3.0          1680          True  \n",
      "1      4.1          3848         False  \n",
      "2      4.2           268         False  \n",
      "3      4.2          6187         False  \n",
      "4      3.9          9877         False  \n",
      "5      2.8           105         False  \n",
      "6      3.3            75          True  \n",
      "7      2.0             1         False  \n",
      "8      3.4           314          True  \n",
      "9      3.4           314         False  \n",
      "10     3.9          7095         False  \n",
      "11     3.9          7095         False  \n",
      "12     4.0          3384         False  \n",
      "13     3.9           171         False  \n",
      "14     4.1          3554         False  \n",
      "15     4.0         38193         False  \n",
      "16     4.0         38193         False  \n",
      "17     4.2            32         False  \n",
      "18     3.5           172         False  \n",
      "19     4.1            24         False  \n",
      "20     4.1          8680         False  \n",
      "21     4.4            91         False  \n",
      "22     3.2           530         False  \n",
      "23     2.9          4425          True  \n",
      "24     3.7           192         False  \n",
      "25     4.1           165         False  \n",
      "26     4.1           165         False  \n",
      "27     4.1           165         False  \n",
      "28     4.1          9185         False  \n",
      "29     4.1          9185         False  \n",
      "30     4.0           529          True  \n",
      "31     4.2           499          True  \n",
      "32     4.4            76         False  \n",
      "33     4.1          1645         False  \n",
      "34     4.1          1645         False  \n",
      "35     4.1          1645         False  \n",
      "36     4.2           146         False  \n",
      "37     3.9          1090         False  \n",
      "38     3.9           329          True  \n",
      "39     3.7            16         False  \n",
      "40     3.7            16         False  \n",
      "41     3.7            16         False  \n",
      "42     3.8           330         False  \n",
      "43     2.9            80         False  \n",
      "44     4.2          3926         False  \n",
      "45     4.1          6428         False  \n",
      "46     4.1          6428         False  \n",
      "47     4.1           702         False  \n"
     ]
    }
   ],
   "source": [
    "print(df)\n"
   ]
  },
  {
   "cell_type": "code",
   "execution_count": 165,
   "metadata": {},
   "outputs": [],
   "source": [
    "df_rating_avg = df.groupby(['Brand']).agg('mean')"
   ]
  },
  {
   "cell_type": "code",
   "execution_count": 170,
   "metadata": {},
   "outputs": [
    {
     "name": "stdout",
     "output_type": "stream",
     "text": [
      "                       Rating\n",
      "Brand                        \n",
      "Reebok               4.150000\n",
      "Sparx                4.106667\n",
      "Kraasa               4.100000\n",
      "Cogs                 4.100000\n",
      "Campus               4.066667\n",
      "Bourge               4.000000\n",
      "SEGA                 4.000000\n",
      "ASIAN                3.933333\n",
      "GoldStar             3.900000\n",
      "Shoefly              3.700000\n",
      "WORLD WEAR FOOTWEAR  3.687500\n",
      "White Walkers        3.500000\n",
      "Ethics               3.400000\n",
      "CLYMB                3.350000\n",
      "A ANTIC MOP          3.300000\n",
      "Sklodge              3.200000\n",
      "MOUNTREXO            2.900000\n",
      "T-Rock               2.900000\n",
      "ALICON               2.800000\n"
     ]
    }
   ],
   "source": [
    "print(df_rating_avg.sort_values(['Rating'],ascending=False))"
   ]
  },
  {
   "cell_type": "code",
   "execution_count": 171,
   "metadata": {},
   "outputs": [],
   "source": [
    "df_products = df.groupby(['Brand']).agg('sum')"
   ]
  },
  {
   "cell_type": "code",
   "execution_count": 176,
   "metadata": {},
   "outputs": [],
   "source": [
    "df_brand_prod = df.groupby(['Brand','Description'])"
   ]
  },
  {
   "cell_type": "code",
   "execution_count": 179,
   "metadata": {},
   "outputs": [
    {
     "name": "stdout",
     "output_type": "stream",
     "text": [
      "Brand                Description                                                                                                                               \n",
      "A ANTIC MOP          Black Fashion Sport Men's Running Shoes(901)                                                                                                  3.30\n",
      "ALICON               Sports Shoes for Men | Lace up Lightweight Shoes for Running, Walking, Gym, Trekking, Hiking & Party Running Shoes for Men's                  2.80\n",
      "ASIAN                Men's Bullet-02 Walking,Sports,Gym,Running Shoes                                                                                              3.90\n",
      "                     Men's Wonder-13 Sports Running Shoes                                                                                                          4.00\n",
      "                     Men's Worldcup-03 Running,Sports,Gym,Phylon Sports                                                                                            3.90\n",
      "Bourge               Men's Loire-61 Navy and D.Grey Running Shoes                                                                                                  3.90\n",
      "                     mens Loire-z1 Running Shoes                                                                                                                   4.10\n",
      "CLYMB                Men's Running Shoe                                                                                                                            3.70\n",
      "                     Outdoor Sports Running Shoes for Mens Boy                                                                                                     3.00\n",
      "Campus               Men's Oxyfit Running Shoes                                                                                                                    4.10\n",
      "                     Men's Styger Running Shoes                                                                                                                    4.00\n",
      "                     Men's Wells Running Shoes                                                                                                                     4.10\n",
      "Cogs                 Men�s Pack of 2 Multicolor Casual Sneakers Sports Running Shoes - (Combo-(2)-179-102)                                                         4.10\n",
      "Ethics               mens Shoes Shoes                                                                                                                              3.40\n",
      "GoldStar             Unisex-adult Sports Shoe                                                                                                                      3.90\n",
      "Kraasa               Men's Running Shoe                                                                                                                            4.10\n",
      "MOUNTREXO            New by Sklodge Men's Air Wonder Series Mesh Casual Sports Sneakers Shoes for Men & Boys, Walking,Running/Gymwear Shoes for Daily Use Black    2.90\n",
      "Reebok               Men Guide Stride Run Shoes                                                                                                                    4.10\n",
      "                     Men's Speed Runner Lp Running Shoes                                                                                                           4.20\n",
      "SEGA                 Original Men's Brown Runner Outdoor Sports Shoes                                                                                              3.80\n",
      "                     Sports Shoes for Men                                                                                                                          4.20\n",
      "Shoefly              Men Multicolour Latest Collection Sports Running Shoes - Pack of 2 (Combo-(2)-9064-1200)                                                      3.70\n",
      "Sklodge              Men's Air Wonder Series Mesh Sports Casual Shoes Sneakers Shoes for Men & Boys, Walking,Running/Gymwear Shoes for Daily Use                   3.20\n",
      "Sparx                Men SM-482 Sports Shoes                                                                                                                       4.10\n",
      "                     Men SM-614 Sports Shoes                                                                                                                       4.40\n",
      "                     Men's Navy Orange Sports Running Shoes SM                                                                                                     4.10\n",
      "                     Men's Running Shoe                                                                                                                            4.20\n",
      "                     Men's Running Shoes                                                                                                                           4.05\n",
      "                     Men's SM-614 Navy Blue Neon Orange Running Shoe-8 Kids UK (SX0614GNBNO0008)                                                                   3.90\n",
      "                     Men's Sm 651 Industrial Shoe                                                                                                                  4.20\n",
      "                     Men's Sm-657 Running Shoe                                                                                                                     4.40\n",
      "                     Men's Sm-663 Running Shoe                                                                                                                     3.90\n",
      "                     Men's Sm-677 Running Shoe                                                                                                                     3.70\n",
      "                     Men's Sx0171g Running Shoes                                                                                                                   4.10\n",
      "                     Men's Sx0421g Running Shoes                                                                                                                   4.20\n",
      "                     mens Sm-602 Running Shoe                                                                                                                      4.20\n",
      "                     mens Sports_sm651 Platform                                                                                                                    4.10\n",
      "T-Rock               Men's Sports Shoes                                                                                                                            2.90\n",
      "WORLD WEAR FOOTWEAR  Men's (1242-9310-5011) Multicolor Casual Sports Running Shoes (Set of 3 Pair)                                                                 4.10\n",
      "                     Men's (9212-9310) Multicolor Casual Sports Running Shoes (Set of 2 Pair)                                                                      2.00\n",
      "                     Men's (9228-9303-9098) Casual Sports Running Shoes                                                                                            3.40\n",
      "                     Men's (9303-9313) Casual Sports Running Shoes                                                                                                 4.00\n",
      "                     Men's (9307) Casual Sports Running Shoes                                                                                                      4.10\n",
      "                     Men's (9332) Grey Casual Sports Running Shoes                                                                                                 4.10\n",
      "                     Men's Multicolor (9098-9070) Casual Sports Running Shoes                                                                                      3.70\n",
      "                     Men's Running Shoe (Set of 2 Pairs)                                                                                                           4.10\n",
      "White Walkers        Men's & Boys Multicolor Running Casual Sports Shoes                                                                                           3.50\n",
      "Name: Rating, dtype: float64\n"
     ]
    }
   ],
   "source": [
    "print(df_brand_prod['Rating'].mean())"
   ]
  },
  {
   "cell_type": "code",
   "execution_count": null,
   "metadata": {},
   "outputs": [],
   "source": []
  }
 ],
 "metadata": {
  "kernelspec": {
   "display_name": "Python 3",
   "language": "python",
   "name": "python3"
  },
  "language_info": {
   "codemirror_mode": {
    "name": "ipython",
    "version": 3
   },
   "file_extension": ".py",
   "mimetype": "text/x-python",
   "name": "python",
   "nbconvert_exporter": "python",
   "pygments_lexer": "ipython3",
   "version": "3.7.0"
  }
 },
 "nbformat": 4,
 "nbformat_minor": 2
}
