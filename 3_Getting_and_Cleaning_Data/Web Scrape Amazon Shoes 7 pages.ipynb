{
 "cells": [
  {
   "cell_type": "code",
   "execution_count": 5,
   "metadata": {},
   "outputs": [],
   "source": [
    "# Practice problem: Scraping amazon.in to get shoe price data \n",
    "import pprint,requests,bs4\n",
    "import pandas as pd"
   ]
  },
  {
   "cell_type": "code",
   "execution_count": 6,
   "metadata": {},
   "outputs": [],
   "source": [
    "#constants\n",
    "url = \"https://www.amazon.in/s?k=sport+shoes&qid=1625391361\"\n",
    "param_ref= \"&ref=sr_pg_\"\n",
    "param_page= \"&page=\""
   ]
  },
  {
   "cell_type": "code",
   "execution_count": 7,
   "metadata": {},
   "outputs": [],
   "source": [
    "def scrape_website(url):\n",
    "    req = requests.get(url)\n",
    "    # create a bs4 object\n",
    "    # To avoid warnings, provide \"html5lib\" explicitly\n",
    "    #html.parser\n",
    "    return bs4.BeautifulSoup(req.content, \"lxml\")\n"
   ]
  },
  {
   "cell_type": "code",
   "execution_count": 25,
   "metadata": {},
   "outputs": [],
   "source": [
    "df = pd.DataFrame(columns=['Id','Brand','Description','Price','Discount','Rating','Total_Reviews','Free_Delivery'])\n",
    "df.set_index('Id')\n",
    "product_id=1\n",
    "#Actual Run\n",
    "for page in range (1,8): \n",
    "    page_string = str(page)\n",
    "    url = url+param_ref+page_string+param_page+page_string\n",
    "    response = scrape_website(url)\n",
    "    \n",
    "    search = response.find_all(\"div\",  attrs={\"id\": 'search'})[0]\n",
    "    product_spans = search.find_all(\"span\",attrs={\"class\": 'celwidget slot=MAIN template=SEARCH_RESULTS widgetId=search-results'})\n",
    "    \n",
    "    for product in product_spans:\n",
    "        try:\n",
    "            brand = product.find(\"span\",attrs={\"class\":'a-size-base-plus a-color-base'}).string\n",
    "            description = product.find(\"span\",attrs={\"class\":'a-size-base-plus a-color-base a-text-normal'}).string\n",
    "            price = float(product.find(\"span\",attrs={\"class\":'a-price a-text-price'}).find(\"span\",attrs={\"aria-hidden\":'true'}).string.replace(',','').replace('₹',''))\n",
    "            discount  = float(product.find(\"span\",attrs={\"class\":'a-price'}).find(\"span\",attrs={\"aria-hidden\":'true'}).find(\"span\",attrs={\"class\":'a-price-whole'}).string.replace(',',''))\n",
    "            rating  = float(product.find(\"span\",attrs={\"class\":'a-icon-alt'}).string.split(\"out\")[0].strip())\n",
    "            num_of_reviews  = int(product.find(\"span\",attrs={\"class\":'a-size-base'}).string.replace(',',''))\n",
    "            delivery_content  = product.find(\"div\",attrs={\"class\":'a-row a-size-base a-color-secondary s-align-children-center'}).string\n",
    "            is_free_deliver = delivery_content.lower().count(\"free delivery\") >0 \n",
    "        except AttributeError:\n",
    "\n",
    "               is_free_deliver = False\n",
    "        #row = pd.DataFrame.from_dict({'Brand':brand,'Description':description,'Price':price,'Discount':discount,'Rating':rating,'Number_Of_Reviews':num_of_reviews,'Delivery':delivery_content})\n",
    "        a_row = [product_id,brand,description,price,discount,rating,num_of_reviews,is_free_deliver]\n",
    "        #df= pd.concat([df,a_row],ignore_index=True)\n",
    "        df.loc[len(df)] = a_row\n",
    "        product_id +=1\n"
   ]
  },
  {
   "cell_type": "code",
   "execution_count": 26,
   "metadata": {},
   "outputs": [
    {
     "name": "stdout",
     "output_type": "stream",
     "text": [
      "   Id                Brand                                        Description  \\\n",
      "0   1                CLYMB          Outdoor Sports Running Shoes for Mens Boy   \n",
      "1   2                Sparx                            Men SM-482 Sports Shoes   \n",
      "2   3                Sparx                           mens Sm-602 Running Shoe   \n",
      "3   4                Sparx                                 Men's Running Shoe   \n",
      "4   5               Bourge       Men's Loire-61 Navy and D.Grey Running Shoes   \n",
      "5   6               ALICON  Sports Shoes for Men | Lace up Lightweight Sho...   \n",
      "6   7          A ANTIC MOP       Black Fashion Sport Men's Running Shoes(901)   \n",
      "7   8              Sklodge  Men's Air Wonder Series Mesh Sports Casual Sho...   \n",
      "8   9  WORLD WEAR FOOTWEAR  Men's (9212-9310) Multicolor Casual Sports Run...   \n",
      "9  10               Ethics                                   mens Shoes Shoes   \n",
      "\n",
      "    Price  Discount  Rating Total_Reviews Free_Delivery  \n",
      "0   999.0     299.0     3.0          1680          True  \n",
      "1  1349.0     935.0     4.1          3848         False  \n",
      "2  1049.0     807.0     4.2           268         False  \n",
      "3  1049.0     807.0     4.2          6188         False  \n",
      "4  1499.0     522.0     3.9          9877         False  \n",
      "5  1499.0     499.0     2.8           105         False  \n",
      "6  1099.0     449.0     3.3            76          True  \n",
      "7   999.0     418.0     3.2           530         False  \n",
      "8   998.0     499.0     2.0             1         False  \n",
      "9   499.0     330.0     3.4           314          True  \n"
     ]
    }
   ],
   "source": [
    "print(df.head(10))\n"
   ]
  },
  {
   "cell_type": "code",
   "execution_count": 13,
   "metadata": {},
   "outputs": [],
   "source": [
    "df_rating_avg = df.groupby(['Brand']).agg('mean')"
   ]
  },
  {
   "cell_type": "code",
   "execution_count": 14,
   "metadata": {},
   "outputs": [
    {
     "name": "stdout",
     "output_type": "stream",
     "text": [
      "                                Rating\n",
      "Brand                                 \n",
      "road runner                   5.000000\n",
      "ARKS                          5.000000\n",
      "Tior                          4.500000\n",
      "Pro                           4.400000\n",
      "Shoefly                       4.350000\n",
      "Puma                          4.213333\n",
      "Coaster                       4.200000\n",
      "Cogs                          4.200000\n",
      "ASICS                         4.200000\n",
      "Bacca Bucci                   4.175000\n",
      "Liberty                       4.112500\n",
      "VGOOD                         4.100000\n",
      "AFROJACK                      4.100000\n",
      "ACTION                        4.100000\n",
      "Adidas                        4.085714\n",
      "Bourge                        4.053333\n",
      "Sparx                         4.021429\n",
      "Centrino                      4.000000\n",
      "ZORIK                         4.000000\n",
      "Generic                       4.000000\n",
      "Harmeet                       4.000000\n",
      "FURO by Redchief              4.000000\n",
      "Mikaasa                       4.000000\n",
      "Fusefit                       4.000000\n",
      "Campus                        3.974074\n",
      "Action Shoes                  3.966667\n",
      "Power                         3.936364\n",
      "Nivia                         3.933333\n",
      "Lancer                        3.912500\n",
      "LAVISTA                       3.900000\n",
      "...                                ...\n",
      "SEGA                          3.720000\n",
      "Longwalk                      3.700000\n",
      "Big Fox                       3.650000\n",
      "Bond Street by (Red Tape)     3.600000\n",
      "aadi                          3.600000\n",
      "BUCADIA                       3.600000\n",
      "Chevit                        3.500000\n",
      "Columbus                      3.500000\n",
      "Inklenzo                      3.500000\n",
      "Robbie jones                  3.400000\n",
      "CLYMB                         3.387500\n",
      "Ethics                        3.316667\n",
      "Amico                         3.300000\n",
      "White Walkers                 3.300000\n",
      "ENJOY the celebration people  3.300000\n",
      "KAVON                         3.300000\n",
      "A ANTIC MOP                   3.300000\n",
      "T-Rock                        3.266667\n",
      "Maddy                         3.200000\n",
      "FASHION WORLD                 3.200000\n",
      "BERKINS                       3.100000\n",
      "SHURAB                        3.000000\n",
      "Auras                         3.000000\n",
      "Sklodge                       3.000000\n",
      "MOUNTREXO                     2.900000\n",
      "Running Rider                 2.800000\n",
      "ALICON                        2.800000\n",
      "H-LEEWARD                     2.700000\n",
      "2ROW                          2.600000\n",
      "DzVR                          2.500000\n",
      "\n",
      "[71 rows x 1 columns]\n"
     ]
    }
   ],
   "source": [
    "print(df_rating_avg.sort_values(['Rating'],ascending=False))"
   ]
  },
  {
   "cell_type": "code",
   "execution_count": 22,
   "metadata": {},
   "outputs": [
    {
     "name": "stdout",
     "output_type": "stream",
     "text": [
      "                              Rating\n",
      "Brand                               \n",
      "2ROW                             2.6\n",
      "A ANTIC MOP                      3.3\n",
      "ACTION                           4.1\n",
      "AFROJACK                         4.1\n",
      "ALICON                           2.8\n",
      "ARKS                             5.0\n",
      "ASIAN                           53.4\n",
      "ASICS                            4.2\n",
      "Action Shoes                    11.9\n",
      "Adidas                          28.6\n",
      "Amico                            3.3\n",
      "Auras                            3.0\n",
      "BERKINS                          6.2\n",
      "BLACKTOWN                        7.6\n",
      "BUCADIA                         10.8\n",
      "Bacca Bucci                     16.7\n",
      "Big Fox                          7.3\n",
      "Bond Street by (Red Tape)        3.6\n",
      "Bourge                          60.8\n",
      "CLYMB                           27.1\n",
      "Campus                         107.3\n",
      "Centrino                         4.0\n",
      "Chevit                           3.5\n",
      "Coaster                          4.2\n",
      "Cogs                            12.6\n",
      "Columbus                         3.5\n",
      "DzVR                             2.5\n",
      "ENJOY the celebration people     6.6\n",
      "Ethics                          19.9\n",
      "FASHINO                          7.6\n",
      "FASHION WORLD                    3.2\n",
      "FURO by Redchief                 4.0\n",
      "Fusefit                          4.0\n",
      "Generic                         16.0\n",
      "GoldStar                         7.8\n",
      "H-LEEWARD                        2.7\n",
      "Harmeet                          4.0\n",
      "Inklenzo                         3.5\n",
      "KAVON                            3.3\n",
      "Kraasa                          11.7\n",
      "LAVISTA                          3.9\n",
      "Lancer                          31.3\n",
      "Liberty                         32.9\n",
      "Longwalk                         3.7\n",
      "Lotto                           15.5\n",
      "MOUNTREXO                        2.9\n",
      "Maddy                            6.4\n",
      "Mikaasa                          4.0\n",
      "Nivia                           11.8\n",
      "Power                           43.3\n"
     ]
    }
   ],
   "source": [
    "df_products = df.groupby(['Brand']).agg('sum')\n",
    "print(df_products.head(50))"
   ]
  },
  {
   "cell_type": "code",
   "execution_count": 21,
   "metadata": {},
   "outputs": [],
   "source": [
    "df_brand_prod = df.groupby(['Brand','Description'])"
   ]
  },
  {
   "cell_type": "code",
   "execution_count": 28,
   "metadata": {},
   "outputs": [
    {
     "name": "stdout",
     "output_type": "stream",
     "text": [
      "                              Total_Reviews\n",
      "Brand                                      \n",
      "ASIAN                                 70731\n",
      "Sparx                                 67519\n",
      "Bourge                                62033\n",
      "WORLD WEAR FOOTWEAR                   41236\n",
      "Campus                                26868\n",
      "Lotto                                 13866\n",
      "Adidas                                 9675\n",
      "Lancer                                 7803\n",
      "Power                                  7624\n",
      "Ethics                                 7520\n",
      "T-Rock                                 7121\n",
      "Reebok                                 5285\n",
      "AFROJACK                               5268\n",
      "Puma                                   3565\n",
      "Fusefit                                3081\n",
      "TRASE                                  3067\n",
      "Inklenzo                               3067\n",
      "CLYMB                                  2687\n",
      "Nivia                                  2583\n",
      "aadi                                   1830\n",
      "Big Fox                                1536\n",
      "SEGA                                   1508\n",
      "Shoefly                                1429\n",
      "Columbus                               1419\n",
      "KAVON                                  1225\n",
      "Liberty                                1117\n",
      "Red Chief                               930\n",
      "Kraasa                                  915\n",
      "Bacca Bucci                             903\n",
      "TYING                                   829\n",
      "...                                     ...\n",
      "White Walkers                           217\n",
      "Robbie jones                            158\n",
      "LAVISTA                                 123\n",
      "ACTION                                  110\n",
      "ALICON                                  105\n",
      "Tior                                    105\n",
      "Longwalk                                 89\n",
      "MOUNTREXO                                80\n",
      "A ANTIC MOP                              76\n",
      "FURO by Redchief                         67\n",
      "BERKINS                                  48\n",
      "SHURAB                                   40\n",
      "H-LEEWARD                                39\n",
      "DzVR                                     37\n",
      "Amico                                    27\n",
      "VGOOD                                    22\n",
      "Running Rider                            22\n",
      "Bond Street by (Red Tape)                22\n",
      "Pro                                      21\n",
      "Coaster                                  21\n",
      "Harmeet                                  13\n",
      "Generic                                  12\n",
      "FASHION WORLD                            10\n",
      "Action Shoes                              9\n",
      "ENJOY the celebration people              6\n",
      "2ROW                                      4\n",
      "ARKS                                      3\n",
      "Auras                                     1\n",
      "ZORIK                                     1\n",
      "road runner                               1\n",
      "\n",
      "[71 rows x 1 columns]\n"
     ]
    }
   ],
   "source": [
    "print(df.pivot_table(index='Brand',values='Total_Reviews',aggfunc='sum').sort_values('Total_Reviews',ascending=False))"
   ]
  },
  {
   "cell_type": "code",
   "execution_count": null,
   "metadata": {},
   "outputs": [],
   "source": []
  }
 ],
 "metadata": {
  "kernelspec": {
   "display_name": "Python 3",
   "language": "python",
   "name": "python3"
  },
  "language_info": {
   "codemirror_mode": {
    "name": "ipython",
    "version": 3
   },
   "file_extension": ".py",
   "mimetype": "text/x-python",
   "name": "python",
   "nbconvert_exporter": "python",
   "pygments_lexer": "ipython3",
   "version": "3.7.0"
  }
 },
 "nbformat": 4,
 "nbformat_minor": 2
}
