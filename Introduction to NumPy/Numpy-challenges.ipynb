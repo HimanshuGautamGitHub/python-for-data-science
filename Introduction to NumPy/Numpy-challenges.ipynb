{
 "cells": [
  {
   "cell_type": "markdown",
   "metadata": {},
   "source": [
    "# challenge 1\n",
    "\n",
    "Input: A single even integer 'n'.\n",
    "Output: An 'n*n' NumPy array in checkerboard format.\n",
    "\n",
    "Example:\n",
    "Input 1:\n",
    "2\n",
    "Output 1:\n",
    "[[0 1]\n",
    " [1 0]]\n",
    "Input 2:\n",
    "4\n",
    "Output 2:\n",
    "[[0 1 0 1] \n",
    " [1 0 1 0]\n",
    " [0 1 0 1]\n",
    " [1 0 1 0]]"
   ]
  },
  {
   "cell_type": "code",
   "execution_count": 7,
   "metadata": {},
   "outputs": [
    {
     "name": "stdout",
     "output_type": "stream",
     "text": [
      "4\n",
      "4\n"
     ]
    }
   ],
   "source": [
    "import numpy as np\n",
    "n = int(input())\n",
    "print(n)"
   ]
  },
  {
   "cell_type": "code",
   "execution_count": 8,
   "metadata": {},
   "outputs": [],
   "source": [
    "array_output = np.zeros( (n,n), dtype= np.int)"
   ]
  },
  {
   "cell_type": "code",
   "execution_count": 9,
   "metadata": {},
   "outputs": [
    {
     "name": "stdout",
     "output_type": "stream",
     "text": [
      "[[0 1 0 1]\n",
      " [1 0 1 0]\n",
      " [0 1 0 1]\n",
      " [1 0 1 0]]\n"
     ]
    }
   ],
   "source": [
    "array_output[::2,1::2] = 1\n",
    "array_output[1::2,::2] = 1\n",
    "print(array_output)\n"
   ]
  },
  {
   "cell_type": "code",
   "execution_count": null,
   "metadata": {},
   "outputs": [],
   "source": []
  }
 ],
 "metadata": {
  "kernelspec": {
   "display_name": "Python 3",
   "language": "python",
   "name": "python3"
  },
  "language_info": {
   "codemirror_mode": {
    "name": "ipython",
    "version": 3
   },
   "file_extension": ".py",
   "mimetype": "text/x-python",
   "name": "python",
   "nbconvert_exporter": "python",
   "pygments_lexer": "ipython3",
   "version": "3.7.0"
  }
 },
 "nbformat": 4,
 "nbformat_minor": 2
}
