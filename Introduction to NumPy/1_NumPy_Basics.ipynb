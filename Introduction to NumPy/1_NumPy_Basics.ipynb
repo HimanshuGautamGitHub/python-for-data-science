{
 "cells": [
  {
   "cell_type": "markdown",
   "metadata": {},
   "source": [
    "# Introduction to NumPy\n",
    "\n",
    "\n",
    "The learning objectives of this section are:\n",
    "\n",
    "* Understand advantages of vectorised code using NumPy (over standard python ways)\n",
    "* Create NumPy arrays\n",
    "    * Convert lists and tuples to NumPy arrays \n",
    "    * Create (initialise) arrays\n",
    "* Inspect the structure and content of arrays\n",
    "* Subset, slice, index and iterate through arrays\n",
    "* Compare computation times in NumPy and standard Python lists\n",
    "\n",
    "*`Numpy library forces program to use underlying hardware of the machine to execute operations in parallel. if underlying machine has just 1 cpu than it will boil down to same computational time as traditional way of coding`"
   ]
  },
  {
   "cell_type": "markdown",
   "metadata": {},
   "source": [
    "### NumPy Basics\n",
    "\n",
    "NumPy is a library written for scientific computing and data analysis. It stands for numerical python.\n",
    "\n",
    "The most basic object in NumPy is the ```ndarray```, or simply an ```array```, which is an **n-dimensional, homogenous** array. By homogenous, we mean that all the elements in a NumPy array have to be of the **same data type**, which is commonly numeric (float or integer). \n",
    "\n",
    "Let's see some examples of arrays."
   ]
  },
  {
   "cell_type": "code",
   "execution_count": 3,
   "metadata": {},
   "outputs": [],
   "source": [
    "# Import the numpy library\n",
    "# np is simply an alias, you may use any other alias, though np is quite standard\n",
    "import numpy as np"
   ]
  },
  {
   "cell_type": "code",
   "execution_count": 4,
   "metadata": {},
   "outputs": [
    {
     "name": "stdout",
     "output_type": "stream",
     "text": [
      "[2 4 5 6 7 9]\n",
      "<class 'numpy.ndarray'>\n"
     ]
    }
   ],
   "source": [
    "# Creating a 1-D array using a list\n",
    "# np.array() takes in a list or a tuple as argument, and converts into an array\n",
    "array_1d = np.array([2, 4, 5, 6, 7, 9])\n",
    "print(array_1d)\n",
    "print(type(array_1d))"
   ]
  },
  {
   "cell_type": "code",
   "execution_count": 5,
   "metadata": {},
   "outputs": [
    {
     "name": "stdout",
     "output_type": "stream",
     "text": [
      "[[2 3 4]\n",
      " [5 8 7]]\n"
     ]
    }
   ],
   "source": [
    "# Creating a 2-D array using two lists\n",
    "array_2d = np.array([[2, 3, 4], [5, 8, 7]])\n",
    "print(array_2d)"
   ]
  },
  {
   "cell_type": "markdown",
   "metadata": {},
   "source": [
    "In NumPy, dimensions are called **axes**. In the 2-d array above, there are two axes, having two and three elements respectively. \n",
    "\n",
    "In NumPy terminology, for 2-D arrays:\n",
    "* ```axis = 0``` refers to the rows\n",
    "* ```axis = 1``` refers to the columns\n",
    "\n",
    "<img src=\"numpy_axes.jpg\" style=\"width: 600px; height: 400px\">"
   ]
  },
  {
   "cell_type": "markdown",
   "metadata": {},
   "source": [
    "### Advantages of NumPy \n",
    "\n",
    "What is the use of arrays over lists, specifically for data analysis? Putting crudely, it is **convenience and speed **:<br>\n",
    "1. You can write **vectorised** code on numpy arrays, not on lists, which is **convenient to read and write, and concise**. \n",
    "2. Numpy is **much faster** than the standard python ways to do computations.\n",
    "\n",
    "Vectorised code typically does not contain explicit looping and indexing etc. (all of this happens behind the scenes, in precompiled C-code), and thus it is much more concise.\n",
    "\n",
    "Let's see an example of convenience, we'll see one later for speed. "
   ]
  },
  {
   "cell_type": "markdown",
   "metadata": {},
   "source": [
    "Say you have two lists of numbers, and want to calculate the element-wise product. The standard python list way would need you to map a lambda function (or worse - write a ```for``` loop), whereas with NumPy, you simply multiply the arrays."
   ]
  },
  {
   "cell_type": "code",
   "execution_count": 1,
   "metadata": {},
   "outputs": [
    {
     "name": "stdout",
     "output_type": "stream",
     "text": [
      "[12, 30, 7, 35]\n"
     ]
    }
   ],
   "source": [
    "list_1 = [3, 6, 7, 5]\n",
    "list_2 = [4, 5, 1, 7]\n",
    "\n",
    "# the list way to do it: map a function to the two lists\n",
    "product_list = list(map(lambda x, y: x*y, list_1, list_2))\n",
    "print(product_list)\n"
   ]
  },
  {
   "cell_type": "code",
   "execution_count": 6,
   "metadata": {},
   "outputs": [
    {
     "name": "stdout",
     "output_type": "stream",
     "text": [
      "[12 30  7 35]\n",
      "<class 'numpy.ndarray'>\n"
     ]
    }
   ],
   "source": [
    "# The numpy array way to do it: simply multiply the two arrays\n",
    "array_1 = np.array(list_1)\n",
    "array_2 = np.array(list_2)\n",
    "\n",
    "array_3 = array_1*array_2\n",
    "print(array_3)\n",
    "print(type(array_3))"
   ]
  },
  {
   "cell_type": "markdown",
   "metadata": {},
   "source": [
    "As you can see, the NumPy way is clearly more concise.\n",
    "\n",
    "Even simple mathematical operations on lists require for loops, unlike with arrays. For example, to calculate the square of every number in a list:"
   ]
  },
  {
   "cell_type": "code",
   "execution_count": 7,
   "metadata": {},
   "outputs": [
    {
     "name": "stdout",
     "output_type": "stream",
     "text": [
      "[9, 36, 49, 25]\n",
      "[ 9 36 49 25]\n"
     ]
    }
   ],
   "source": [
    "# Square a list\n",
    "list_squared = [i**2 for i in list_1]\n",
    "\n",
    "# Square a numpy array\n",
    "array_squared = array_1**2\n",
    "\n",
    "print(list_squared)\n",
    "print(array_squared)"
   ]
  },
  {
   "cell_type": "markdown",
   "metadata": {},
   "source": [
    "This was with 1-D arrays. You'll often work with 2-D arrays (matrices), where the difference would be even greater. With lists, you'll have to store matrices as lists of lists and loop through them. With NumPy, you simply multiply the matrices."
   ]
  },
  {
   "cell_type": "markdown",
   "metadata": {},
   "source": [
    "### Creating NumPy Arrays \n",
    "\n",
    "There are multiple ways to create numpy arrays, the most commmon ones being:\n",
    "* Convert lists or tuples to arrays using ```np.array()```, as done above\n",
    "* Initialise arrays of fixed size (when the size is known) \n"
   ]
  },
  {
   "cell_type": "code",
   "execution_count": 8,
   "metadata": {},
   "outputs": [
    {
     "name": "stdout",
     "output_type": "stream",
     "text": [
      "[2 5 6 7]\n",
      "[4 5 8 9]\n"
     ]
    }
   ],
   "source": [
    "# Convert lists or tuples to arrays using np.array()\n",
    "# Note that np.array(2, 5, 6, 7) will throw an error - you need to pass a list or a tuple\n",
    "array_from_list = np.array([2, 5, 6, 7]) \n",
    "array_from_tuple = np.array((4, 5, 8, 9))\n",
    "\n",
    "print(array_from_list)\n",
    "print(array_from_tuple)"
   ]
  },
  {
   "cell_type": "markdown",
   "metadata": {},
   "source": [
    "The other common way is to initialise arrays. You do this when you know the size of the array beforehand.\n",
    "\n",
    "The following ways are commonly used:\n",
    "* ```np.ones()```: Create array of 1s\n",
    "* ```np.zeros()```: Create array of 0s\n",
    "* ```np.random.random()```: Create array of random numbers\n",
    "* ```np.arange()```: Create array with increments of a fixed step size\n",
    "* ```np.linspace()```: Create array of fixed length"
   ]
  },
  {
   "cell_type": "code",
   "execution_count": 9,
   "metadata": {},
   "outputs": [
    {
     "name": "stdout",
     "output_type": "stream",
     "text": [
      "Help on function ones in module numpy.core.numeric:\n",
      "\n",
      "ones(shape, dtype=None, order='C')\n",
      "    Return a new array of given shape and type, filled with ones.\n",
      "    \n",
      "    Parameters\n",
      "    ----------\n",
      "    shape : int or sequence of ints\n",
      "        Shape of the new array, e.g., ``(2, 3)`` or ``2``.\n",
      "    dtype : data-type, optional\n",
      "        The desired data-type for the array, e.g., `numpy.int8`.  Default is\n",
      "        `numpy.float64`.\n",
      "    order : {'C', 'F'}, optional, default: C\n",
      "        Whether to store multi-dimensional data in row-major\n",
      "        (C-style) or column-major (Fortran-style) order in\n",
      "        memory.\n",
      "    \n",
      "    Returns\n",
      "    -------\n",
      "    out : ndarray\n",
      "        Array of ones with the given shape, dtype, and order.\n",
      "    \n",
      "    See Also\n",
      "    --------\n",
      "    ones_like : Return an array of ones with shape and type of input.\n",
      "    empty : Return a new uninitialized array.\n",
      "    zeros : Return a new array setting values to zero.\n",
      "    full : Return a new array of given shape filled with value.\n",
      "    \n",
      "    \n",
      "    Examples\n",
      "    --------\n",
      "    >>> np.ones(5)\n",
      "    array([ 1.,  1.,  1.,  1.,  1.])\n",
      "    \n",
      "    >>> np.ones((5,), dtype=int)\n",
      "    array([1, 1, 1, 1, 1])\n",
      "    \n",
      "    >>> np.ones((2, 1))\n",
      "    array([[ 1.],\n",
      "           [ 1.]])\n",
      "    \n",
      "    >>> s = (2,2)\n",
      "    >>> np.ones(s)\n",
      "    array([[ 1.,  1.],\n",
      "           [ 1.,  1.]])\n",
      "\n"
     ]
    }
   ],
   "source": [
    "# Tip: Use help to see the syntax when required\n",
    "help(np.ones)"
   ]
  },
  {
   "cell_type": "code",
   "execution_count": 10,
   "metadata": {},
   "outputs": [
    {
     "data": {
      "text/plain": [
       "array([[1., 1., 1.],\n",
       "       [1., 1., 1.],\n",
       "       [1., 1., 1.],\n",
       "       [1., 1., 1.],\n",
       "       [1., 1., 1.]])"
      ]
     },
     "execution_count": 10,
     "metadata": {},
     "output_type": "execute_result"
    }
   ],
   "source": [
    "# Creating a 5 x 3 array of ones\n",
    "np.ones((5, 3))"
   ]
  },
  {
   "cell_type": "code",
   "execution_count": 11,
   "metadata": {},
   "outputs": [
    {
     "data": {
      "text/plain": [
       "array([[1, 1, 1],\n",
       "       [1, 1, 1],\n",
       "       [1, 1, 1],\n",
       "       [1, 1, 1],\n",
       "       [1, 1, 1]])"
      ]
     },
     "execution_count": 11,
     "metadata": {},
     "output_type": "execute_result"
    }
   ],
   "source": [
    "# Notice that, by default, numpy creates data type = float64\n",
    "# Can provide dtype explicitly using dtype\n",
    "np.ones((5, 3), dtype = np.int)"
   ]
  },
  {
   "cell_type": "code",
   "execution_count": 12,
   "metadata": {},
   "outputs": [
    {
     "data": {
      "text/plain": [
       "array([0, 0, 0, 0])"
      ]
     },
     "execution_count": 12,
     "metadata": {},
     "output_type": "execute_result"
    }
   ],
   "source": [
    "# Creating array of zeros\n",
    "np.zeros(4, dtype = np.int)"
   ]
  },
  {
   "cell_type": "code",
   "execution_count": 13,
   "metadata": {},
   "outputs": [
    {
     "data": {
      "text/plain": [
       "array([[0.87758051, 0.96713652, 0.85951885, 0.6497922 ],\n",
       "       [0.34759901, 0.65880458, 0.53201195, 0.38889929],\n",
       "       [0.56200065, 0.67375413, 0.09775718, 0.64953321]])"
      ]
     },
     "execution_count": 13,
     "metadata": {},
     "output_type": "execute_result"
    }
   ],
   "source": [
    "# Array of random numbers\n",
    "np.random.random([3, 4])"
   ]
  },
  {
   "cell_type": "code",
   "execution_count": 14,
   "metadata": {},
   "outputs": [
    {
     "name": "stdout",
     "output_type": "stream",
     "text": [
      "[10 15 20 25 30 35 40 45 50 55 60 65 70 75 80 85 90 95]\n"
     ]
    }
   ],
   "source": [
    "# np.arange()\n",
    "# np.arange() is the numpy equivalent of range()\n",
    "# Notice that 10 is included, 100 is not, as in standard python lists\n",
    "\n",
    "# From 10 to 100 with a step of 5\n",
    "numbers = np.arange(10, 100, 5)\n",
    "print(numbers)"
   ]
  },
  {
   "cell_type": "code",
   "execution_count": 15,
   "metadata": {},
   "outputs": [
    {
     "data": {
      "text/plain": [
       "array([15.   , 15.125, 15.25 , 15.375, 15.5  , 15.625, 15.75 , 15.875,\n",
       "       16.   , 16.125, 16.25 , 16.375, 16.5  , 16.625, 16.75 , 16.875,\n",
       "       17.   , 17.125, 17.25 , 17.375, 17.5  , 17.625, 17.75 , 17.875,\n",
       "       18.   ])"
      ]
     },
     "execution_count": 15,
     "metadata": {},
     "output_type": "execute_result"
    }
   ],
   "source": [
    "# np.linspace()\n",
    "# Sometimes, you know the length of the array, not the step size\n",
    "\n",
    "# Array of length 25 between 15 and 18\n",
    "np.linspace(15, 18, 25)"
   ]
  },
  {
   "cell_type": "markdown",
   "metadata": {},
   "source": [
    "Apart from the methods mentioned above, there are a few more NumPy functions that you can use to create special NumPy arrays:\n",
    "\n",
    "-  `np.full()`: Create a constant array of any number ‘n’\n",
    "-  `np.tile()`: Create a new array by repeating an existing array for a particular number of times\n",
    "-  `np.eye()`: Create an identity matrix of any dimension\n",
    "-  `np.randint()`: Create a random array of integers within a particular range"
   ]
  },
  {
   "cell_type": "code",
   "execution_count": 15,
   "metadata": {},
   "outputs": [
    {
     "data": {
      "text/plain": [
       "array([[7, 7, 7],\n",
       "       [7, 7, 7],\n",
       "       [7, 7, 7],\n",
       "       [7, 7, 7]])"
      ]
     },
     "execution_count": 15,
     "metadata": {},
     "output_type": "execute_result"
    }
   ],
   "source": [
    "# Creating a 4 x 3 array of 7s using np.full()\n",
    "# The default data type here is int only\n",
    "np.full((4,3), 7)"
   ]
  },
  {
   "cell_type": "code",
   "execution_count": 16,
   "metadata": {},
   "outputs": [
    {
     "data": {
      "text/plain": [
       "array([0, 1, 2, 0, 1, 2, 0, 1, 2])"
      ]
     },
     "execution_count": 16,
     "metadata": {},
     "output_type": "execute_result"
    }
   ],
   "source": [
    "# Given an array, np.tile() creates a new array by repeating the given array for any number of times that you want\n",
    "# The default data type her is int only\n",
    "arr = ([0, 1, 2])\n",
    "np.tile(arr, 3)"
   ]
  },
  {
   "cell_type": "code",
   "execution_count": 17,
   "metadata": {},
   "outputs": [
    {
     "data": {
      "text/plain": [
       "array([[0, 1, 2, 0, 1, 2],\n",
       "       [0, 1, 2, 0, 1, 2],\n",
       "       [0, 1, 2, 0, 1, 2]])"
      ]
     },
     "execution_count": 17,
     "metadata": {},
     "output_type": "execute_result"
    }
   ],
   "source": [
    "# You can also create multidimensional arrays using np.tile()\n",
    "np.tile(arr, (3,2))"
   ]
  },
  {
   "cell_type": "code",
   "execution_count": 18,
   "metadata": {},
   "outputs": [
    {
     "data": {
      "text/plain": [
       "array([[1, 0, 0],\n",
       "       [0, 1, 0],\n",
       "       [0, 0, 1]])"
      ]
     },
     "execution_count": 18,
     "metadata": {},
     "output_type": "execute_result"
    }
   ],
   "source": [
    "# Create a 3 x 3 identity matrix using np.eye()\n",
    "# The default data type here is float. So if we want integer values, we need to specify the dtype to be int\n",
    "np.eye(3, dtype = int)"
   ]
  },
  {
   "cell_type": "code",
   "execution_count": 19,
   "metadata": {},
   "outputs": [
    {
     "data": {
      "text/plain": [
       "array([[1, 8, 4, 4],\n",
       "       [7, 2, 4, 6],\n",
       "       [3, 9, 9, 2],\n",
       "       [1, 2, 8, 1]])"
      ]
     },
     "execution_count": 19,
     "metadata": {},
     "output_type": "execute_result"
    }
   ],
   "source": [
    "# Create a 4 x 4 random array of integers ranging from 0 to 9\n",
    "np.random.randint(0, 10, (4,4))"
   ]
  },
  {
   "cell_type": "markdown",
   "metadata": {},
   "source": [
    "### Inspect the Structure and Content of Arrays\n",
    "\n",
    "It is helpful to inspect the structure of numpy arrays, especially while working with large arrays. Some attributes of numpy arrays are:\n",
    "* ```shape```: Shape of array (n x m)\n",
    "* ```dtype```: data type (int, float etc.)\n",
    "* ```ndim```: Number of dimensions (or axes)\n",
    "* ```itemsize```: Memory used by each array elememnt in bytes\n",
    "\n",
    "\n",
    "Let's say you are working with a moderately large array of size 1000 x 300. First, you would want to wrap your head around the basic shape and size of the array. "
   ]
  },
  {
   "cell_type": "code",
   "execution_count": 16,
   "metadata": {},
   "outputs": [
    {
     "name": "stdout",
     "output_type": "stream",
     "text": [
      "[0.87796014 0.03212979 0.45290951 0.47679348 0.1198644  0.94810137\n",
      " 0.56035914 0.50616118 0.44034173 0.63883525 0.13237027 0.84007878\n",
      " 0.81317307 0.09024613 0.85971018 0.94383568 0.31521883 0.9341865\n",
      " 0.11614386 0.09709725 0.9260957  0.71495959 0.64188114 0.0596748\n",
      " 0.5822477  0.46489692 0.07624911 0.1142886  0.17592198 0.85107491\n",
      " 0.72227885 0.86120148 0.37591896 0.65409504 0.67564737 0.55477633\n",
      " 0.14131446 0.86398275 0.44296461 0.68567655 0.51898649 0.75745354\n",
      " 0.09023081 0.42733489 0.87265803 0.13563786 0.30618297 0.55017938\n",
      " 0.19678688 0.31301161 0.50726833 0.96372678 0.36686615 0.56431082\n",
      " 0.72329179 0.27898696 0.68833394 0.55607858 0.85824655 0.62665043\n",
      " 0.23036574 0.38188425 0.32577147 0.83671558 0.93776856 0.87690444\n",
      " 0.25198551 0.97307204 0.13516556 0.32881804 0.10116943 0.44872738\n",
      " 0.22468949 0.5749541  0.80472137 0.7280699  0.04687642 0.17111218\n",
      " 0.31119865 0.41592171 0.91893983 0.72922483 0.68682983 0.56589842\n",
      " 0.4867816  0.08822424 0.2128831  0.29839979 0.63059056 0.2726073\n",
      " 0.17213291 0.19261354 0.81893898 0.88412299 0.55629659 0.92900307\n",
      " 0.68327248 0.04778549 0.26125679 0.68315845 0.40314494 0.65585803\n",
      " 0.3929531  0.16558885 0.5929027  0.89169303 0.72918204 0.73868646\n",
      " 0.93678773 0.22155344 0.24006304 0.38338928 0.3674408  0.05695525\n",
      " 0.515545   0.68685537 0.34680051 0.77814767 0.47261152 0.23974004\n",
      " 0.92653348 0.54280717 0.96495694 0.84642461 0.94006193 0.1808487\n",
      " 0.12130623 0.59008543 0.81576131 0.65791165 0.82891737 0.12382224\n",
      " 0.52339523 0.94501352 0.44495256 0.04629877 0.32778973 0.27077894\n",
      " 0.08352401 0.78703711 0.26135979 0.1989633  0.82107818 0.09322684\n",
      " 0.76711502 0.95157189 0.27961053 0.34891379 0.86612595 0.10876081\n",
      " 0.79959046 0.54860984 0.30239079 0.36270705 0.56587872 0.49939556\n",
      " 0.81000078 0.22617334 0.03124239 0.85485653 0.67259658 0.67650122\n",
      " 0.95638665 0.42118288 0.95732138 0.377844   0.94778627 0.86732053\n",
      " 0.01974818 0.28915651 0.93527047 0.24486694 0.27577966 0.92170476\n",
      " 0.27565942 0.76900574 0.83673217 0.31053397 0.16625721 0.01323583\n",
      " 0.72502851 0.46441781 0.72936477 0.48767379 0.88047629 0.6488878\n",
      " 0.60945894 0.14026611 0.75912666 0.35699674 0.03791656 0.83322816\n",
      " 0.60843391 0.87045027 0.69223604 0.84923093 0.08905429 0.39698935\n",
      " 0.5483023  0.78355754 0.17744302 0.14855133 0.75418452 0.08863162\n",
      " 0.34817036 0.40527772 0.24849663 0.18119554 0.54255549 0.9397687\n",
      " 0.96424381 0.1859303  0.52570411 0.82725258 0.74546251 0.88033549\n",
      " 0.05376901 0.46578809 0.6985343  0.95813799 0.2216925  0.01788899\n",
      " 0.9348732  0.13507302 0.7329858  0.37798798 0.83929772 0.31616887\n",
      " 0.88046632 0.71169753 0.18034134 0.64185111 0.50540876 0.47287661\n",
      " 0.04734185 0.25123702 0.21101935 0.38650698 0.11525675 0.89794\n",
      " 0.9230051  0.29240535 0.92972552 0.04795766 0.47136136 0.20369712\n",
      " 0.60339218 0.29714864 0.92732082 0.34069483 0.67443557 0.66034932\n",
      " 0.98274594 0.19685444 0.57190552 0.19270438 0.94585928 0.29984658\n",
      " 0.60028777 0.16375876 0.10325493 0.90765227 0.7315989  0.40163282\n",
      " 0.86005472 0.97453278 0.73664876 0.45433552 0.49299005 0.23986537\n",
      " 0.70187054 0.53509801 0.72493283 0.30126961 0.27264904 0.64604019\n",
      " 0.85457848 0.31666733 0.46329185 0.85424625 0.77370121 0.15353554\n",
      " 0.19073509 0.63003936 0.50805424 0.4764781  0.11649623 0.25392322\n",
      " 0.29007495 0.69324159 0.24161126 0.85659674 0.62118569 0.15839211\n",
      " 0.7803675  0.68120776 0.83738688 0.39323485 0.16703015 0.08690812]\n"
     ]
    }
   ],
   "source": [
    "# Initialising a random 1000 x 300 array\n",
    "rand_array = np.random.random((1000, 300))\n",
    "\n",
    "# Print the second row\n",
    "print(rand_array[1, ])"
   ]
  },
  {
   "cell_type": "code",
   "execution_count": 17,
   "metadata": {},
   "outputs": [
    {
     "name": "stdout",
     "output_type": "stream",
     "text": [
      "Shape: (1000, 300)\n",
      "dtype: float64\n",
      "Dimensions: 2\n",
      "Item size: 8\n"
     ]
    }
   ],
   "source": [
    "# Inspecting shape, dtype, ndim and itemsize\n",
    "print(\"Shape: {}\".format(rand_array.shape))\n",
    "print(\"dtype: {}\".format(rand_array.dtype))\n",
    "print(\"Dimensions: {}\".format(rand_array.ndim))\n",
    "print(\"Item size: {}\".format(rand_array.itemsize))"
   ]
  },
  {
   "cell_type": "markdown",
   "metadata": {},
   "source": [
    "Reading 3-D arrays is not very obvious, because we can only print maximum two dimensions on paper, and thus they are printed according to a specific convention. Printing higher dimensional arrays follows the following conventions:\n",
    "* The last axis is printed from left to right\n",
    "* The second-to-last axis is printed from top to bottom\n",
    "* The other axes are also printed top-to-bottom, with each slice separated by another using an empty line \n",
    "\n",
    "Let's see some examples."
   ]
  },
  {
   "cell_type": "code",
   "execution_count": 22,
   "metadata": {},
   "outputs": [
    {
     "name": "stdout",
     "output_type": "stream",
     "text": [
      "[[[ 0  1  2  3]\n",
      "  [ 4  5  6  7]\n",
      "  [ 8  9 10 11]]\n",
      "\n",
      " [[12 13 14 15]\n",
      "  [16 17 18 19]\n",
      "  [20 21 22 23]]]\n"
     ]
    }
   ],
   "source": [
    "# Creating a 3-D array\n",
    "# reshape() simply reshapes a 1-D array \n",
    "array_3d = np.arange(24).reshape(2, 3, 4)\n",
    "print(array_3d)"
   ]
  },
  {
   "cell_type": "markdown",
   "metadata": {},
   "source": [
    "* The last axis has 4 elements, and is printed from left to right.\n",
    "* The second last has 3, and is printed top to bottom\n",
    "* The other axis has 2, and is printed in the two separated blocks"
   ]
  },
  {
   "cell_type": "markdown",
   "metadata": {},
   "source": [
    "### Subset, Slice, Index and Iterate through Arrays\n",
    "\n",
    "For **one-dimensional arrays**, indexing, slicing etc. is **similar to python lists** - indexing starts at 0."
   ]
  },
  {
   "cell_type": "code",
   "execution_count": 23,
   "metadata": {},
   "outputs": [
    {
     "name": "stdout",
     "output_type": "stream",
     "text": [
      "[0 1 2 3 4 5 6 7 8 9]\n"
     ]
    }
   ],
   "source": [
    "# Indexing and slicing one dimensional arrays\n",
    "array_1d = np.arange(10)\n",
    "print(array_1d)"
   ]
  },
  {
   "cell_type": "code",
   "execution_count": 24,
   "metadata": {},
   "outputs": [
    {
     "name": "stdout",
     "output_type": "stream",
     "text": [
      "2\n",
      "[2 5 6]\n",
      "[2 3 4 5 6 7 8 9]\n",
      "[0 1 2]\n",
      "[2 3 4 5 6]\n",
      "[0 2 4 6 8]\n"
     ]
    }
   ],
   "source": [
    "# Third element\n",
    "print(array_1d[2])\n",
    "\n",
    "# Specific elements\n",
    "# Notice that array[2, 5, 6] will throw an error, you need to provide the indices as a list\n",
    "print(array_1d[[2, 5, 6]])\n",
    "\n",
    "# Slice third element onwards\n",
    "print(array_1d[2:])\n",
    "\n",
    "# Slice first three elements\n",
    "print(array_1d[:3])\n",
    "\n",
    "# Slice third to seventh elements\n",
    "print(array_1d[2:7])\n",
    "\n",
    "# Subset starting 0 at increment of 2 \n",
    "print(array_1d[0::2])"
   ]
  },
  {
   "cell_type": "code",
   "execution_count": 25,
   "metadata": {},
   "outputs": [
    {
     "name": "stdout",
     "output_type": "stream",
     "text": [
      "0\n",
      "1\n",
      "4\n",
      "9\n",
      "16\n",
      "25\n",
      "36\n",
      "49\n",
      "64\n",
      "81\n"
     ]
    }
   ],
   "source": [
    "# Iterations are also similar to lists\n",
    "for i in array_1d:\n",
    "    print(i**2)"
   ]
  },
  {
   "cell_type": "markdown",
   "metadata": {},
   "source": [
    "**Multidimensional arrays** are indexed using as many indices as the number of dimensions or axes. For instance, to index a 2-D array, you need two indices - ```array[x, y]```. \n",
    "\n",
    "Each axes has an index starting at 0. The following figure shows the axes and their indices for a 2-D array.\n",
    "\n",
    "<img src=\"2_d_array.png\" style=\"width: 350px; height: 300px\">\n"
   ]
  },
  {
   "cell_type": "code",
   "execution_count": 26,
   "metadata": {},
   "outputs": [
    {
     "name": "stdout",
     "output_type": "stream",
     "text": [
      "[[ 2  5  7  5]\n",
      " [ 4  6  8 10]\n",
      " [10 12 15 19]]\n"
     ]
    }
   ],
   "source": [
    "# Creating a 2-D array\n",
    "array_2d = np.array([[2, 5, 7, 5], [4, 6, 8, 10], [10, 12, 15, 19]])\n",
    "print(array_2d)"
   ]
  },
  {
   "cell_type": "code",
   "execution_count": 27,
   "metadata": {},
   "outputs": [
    {
     "name": "stdout",
     "output_type": "stream",
     "text": [
      "12\n"
     ]
    }
   ],
   "source": [
    "# Third row second column\n",
    "print(array_2d[2, 1])"
   ]
  },
  {
   "cell_type": "code",
   "execution_count": 28,
   "metadata": {},
   "outputs": [
    {
     "name": "stdout",
     "output_type": "stream",
     "text": [
      "[ 4  6  8 10]\n",
      "<class 'numpy.ndarray'>\n"
     ]
    }
   ],
   "source": [
    "# Slicing the second row, and all columns\n",
    "# Notice that the resultant is itself a 1-D array\n",
    "print(array_2d[1, :])\n",
    "print(type(array_2d[1, :]))"
   ]
  },
  {
   "cell_type": "code",
   "execution_count": 29,
   "metadata": {},
   "outputs": [
    {
     "name": "stdout",
     "output_type": "stream",
     "text": [
      "[ 7  8 15]\n"
     ]
    }
   ],
   "source": [
    "# Slicing all rows and the third column\n",
    "print(array_2d[:, 2])"
   ]
  },
  {
   "cell_type": "code",
   "execution_count": 30,
   "metadata": {},
   "outputs": [
    {
     "name": "stdout",
     "output_type": "stream",
     "text": [
      "[[ 2  5  7]\n",
      " [ 4  6  8]\n",
      " [10 12 15]]\n"
     ]
    }
   ],
   "source": [
    "# Slicing all rows and the first three columns\n",
    "print(array_2d[:, :3])"
   ]
  },
  {
   "cell_type": "markdown",
   "metadata": {},
   "source": [
    "**Iterating on 2-D arrays** is done with respect to the first axis (which is row, the second axis is column). "
   ]
  },
  {
   "cell_type": "code",
   "execution_count": 31,
   "metadata": {},
   "outputs": [
    {
     "name": "stdout",
     "output_type": "stream",
     "text": [
      "[2 5 7 5]\n",
      "[ 4  6  8 10]\n",
      "[10 12 15 19]\n"
     ]
    }
   ],
   "source": [
    "# Iterating over 2-D arrays\n",
    "for row in array_2d:\n",
    "    print(row)"
   ]
  },
  {
   "cell_type": "code",
   "execution_count": 32,
   "metadata": {},
   "outputs": [
    {
     "name": "stdout",
     "output_type": "stream",
     "text": [
      "[[[ 0  1  2  3]\n",
      "  [ 4  5  6  7]\n",
      "  [ 8  9 10 11]]\n",
      "\n",
      " [[12 13 14 15]\n",
      "  [16 17 18 19]\n",
      "  [20 21 22 23]]]\n"
     ]
    }
   ],
   "source": [
    "# Iterating over 3-D arrays: Done with respect to the first axis\n",
    "array_3d = np.arange(24).reshape(2, 3, 4)\n",
    "print(array_3d)"
   ]
  },
  {
   "cell_type": "code",
   "execution_count": 33,
   "metadata": {},
   "outputs": [
    {
     "name": "stdout",
     "output_type": "stream",
     "text": [
      "[[ 0  1  2  3]\n",
      " [ 4  5  6  7]\n",
      " [ 8  9 10 11]]\n",
      "[[12 13 14 15]\n",
      " [16 17 18 19]\n",
      " [20 21 22 23]]\n"
     ]
    }
   ],
   "source": [
    "# Prints the two blocks\n",
    "for row in array_3d:\n",
    "    print(row)"
   ]
  },
  {
   "cell_type": "markdown",
   "metadata": {},
   "source": [
    "### Compare Computation Times in NumPy and Standard Python Lists\n",
    "\n",
    "We mentioned that the key advantages of numpy are convenience and speed of computation. \n",
    "\n",
    "You'll often work with extremely large datasets, and thus it is important point for you to understand how much computation time (and memory) you can save using numpy, compared to standard python lists.   \n",
    "\n",
    "Let's compare the computation times of arrays and lists for a simple task of calculating the element-wise product of numbers. "
   ]
  },
  {
   "cell_type": "code",
   "execution_count": 18,
   "metadata": {},
   "outputs": [
    {
     "name": "stdout",
     "output_type": "stream",
     "text": [
      "0.11799812316894531\n",
      "0.004006862640380859\n",
      "The ratio of time taken is 29.449006307271212\n"
     ]
    }
   ],
   "source": [
    "## Comparing time taken for computation\n",
    "list_1 = [i for i in range(1000000)]\n",
    "list_2 = [j**2 for j in range(1000000)]\n",
    "\n",
    "# list multiplication\n",
    "import time\n",
    "\n",
    "# store start time, time after computation, and take the difference\n",
    "t0 = time.time()\n",
    "product_list = list(map(lambda x, y: x*y, list_1, list_2))\n",
    "t1 = time.time()\n",
    "list_time = t1 - t0 \n",
    "print(t1-t0)\n",
    "\n",
    "\n",
    "# numpy array \n",
    "array_1 = np.array(list_1)\n",
    "array_2 = np.array(list_2)\n",
    "\n",
    "t0 = time.time()\n",
    "array_3 = array_1*array_2\n",
    "t1 = time.time()\n",
    "numpy_time = t1 - t0\n",
    "\n",
    "print(t1-t0)\n",
    "\n",
    "print(\"The ratio of time taken is {}\".format(list_time/numpy_time))"
   ]
  },
  {
   "cell_type": "markdown",
   "metadata": {},
   "source": [
    "In this case, numpy is **an order of magnitude faster** than lists. This is with arrays of size in millions, but you may work on much larger arrays of sizes in order of billions. Then, the difference is even larger.\n",
    "\n",
    "Some reasons for such difference in speed are:\n",
    "* NumPy is written in C, which is basically being executed behind the scenes\n",
    "* NumPy arrays are more compact than lists, i.e. they take much lesser storage space than lists\n",
    "\n",
    "\n",
    "The following discussions demonstrate the differences in speeds of NumPy and standard python:\n",
    "1. https://stackoverflow.com/questions/8385602/why-are-numpy-arrays-so-fast\n",
    "2. https://stackoverflow.com/questions/993984/why-numpy-instead-of-python-lists\n"
   ]
  }
 ],
 "metadata": {
  "kernelspec": {
   "display_name": "Python 3",
   "language": "python",
   "name": "python3"
  },
  "language_info": {
   "codemirror_mode": {
    "name": "ipython",
    "version": 3
   },
   "file_extension": ".py",
   "mimetype": "text/x-python",
   "name": "python",
   "nbconvert_exporter": "python",
   "pygments_lexer": "ipython3",
   "version": "3.7.0"
  }
 },
 "nbformat": 4,
 "nbformat_minor": 2
}
