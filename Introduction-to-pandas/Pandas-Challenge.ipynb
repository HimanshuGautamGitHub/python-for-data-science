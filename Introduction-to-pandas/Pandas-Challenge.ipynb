{
 "cells": [
  {
   "cell_type": "markdown",
   "metadata": {},
   "source": [
    "### Challenge 1\n",
    "\n",
    "Description\n",
    "Given three data frames containing the number of gold, silver, and bronze Olympic medals won by some countries, determine the total number of medals won by each country. \n",
    "Note: All the three data frames don’t have all the same countries. So, ensure you use the ‘fill_value’ argument (set it to zero), to avoid getting NaN values. Also, ensure you sort the final dataframe, according to the total medal count in descending order.\n",
    "\n"
   ]
  },
  {
   "cell_type": "code",
   "execution_count": 15,
   "metadata": {},
   "outputs": [
    {
     "name": "stdout",
     "output_type": "stream",
     "text": [
      "         Medals\n",
      "Country        \n",
      "USA        72.0\n",
      "France     53.0\n",
      "UK         27.0\n",
      "Russia     25.0\n",
      "Germany    20.0\n"
     ]
    }
   ],
   "source": [
    "import numpy as np \n",
    "import pandas as pd\n",
    "\n",
    "# Defining the three dataframes indicating the gold, silver, and bronze medal counts\n",
    "# of different countries\n",
    "gold = pd.DataFrame({'Country': ['USA', 'France', 'Russia'],\n",
    "                         'Medals': [15, 13, 9]}\n",
    "                    )\n",
    "silver = pd.DataFrame({'Country': ['USA', 'Germany', 'Russia'],\n",
    "                        'Medals': [29, 20, 16]}\n",
    "                    )\n",
    "bronze = pd.DataFrame({'Country': ['France', 'USA', 'UK'],\n",
    "                        'Medals': [40, 28, 27]}\n",
    "                    )\n",
    "\n",
    "\n",
    "gold.set_index('Country',inplace=True)\n",
    "silver.set_index('Country',inplace=True)\n",
    "bronze.set_index('Country',inplace=True)\n",
    "\n",
    "total = gold.add(silver,fill_value=0).add(bronze,fill_value=0)\n",
    "\n",
    "print(gold_silver_bronze.sort_values(\"Medals\", ascending=False))"
   ]
  },
  {
   "cell_type": "markdown",
   "metadata": {},
   "source": [
    "### Challenge2\n",
    "Dataframe grouping\n",
    "Description\n",
    "Group the data 'df' by 'month' and 'day' and find the mean value for column 'rain' and 'wind'."
   ]
  },
  {
   "cell_type": "code",
   "execution_count": 16,
   "metadata": {},
   "outputs": [
    {
     "name": "stdout",
     "output_type": "stream",
     "text": [
      "               rain      wind\n",
      "month day                    \n",
      "apr   fri  0.000000  3.100000\n",
      "      mon  0.000000  3.100000\n",
      "      sat  0.000000  4.500000\n",
      "      sun  0.000000  5.666667\n",
      "      thu  0.000000  5.800000\n",
      "      wed  0.000000  2.700000\n",
      "aug   fri  0.066667  4.766667\n",
      "      mon  0.000000  2.873333\n",
      "      sat  0.000000  4.310345\n",
      "      sun  0.025000  4.417500\n",
      "      thu  0.000000  3.503846\n",
      "      tue  0.300000  4.567857\n",
      "      wed  0.000000  3.520000\n",
      "dec   fri  0.000000  4.900000\n",
      "      mon  0.000000  8.500000\n",
      "      sun  0.000000  8.500000\n",
      "      thu  0.000000  4.900000\n",
      "      tue  0.000000  8.500000\n",
      "      wed  0.000000  8.000000\n",
      "feb   fri  0.000000  4.820000\n"
     ]
    }
   ],
   "source": [
    "import pandas as pd\n",
    "df = pd.read_csv('https://query.data.world/s/vBDCsoHCytUSLKkLvq851k2b8JOCkF')\n",
    "#Type your groupby command here\n",
    "df_1 =  df.groupby(['month','day'])['rain','wind'].mean()\n",
    "print(df_1.head(20))"
   ]
  },
  {
   "cell_type": "code",
   "execution_count": null,
   "metadata": {},
   "outputs": [],
   "source": []
  }
 ],
 "metadata": {
  "kernelspec": {
   "display_name": "Python 3",
   "language": "python",
   "name": "python3"
  },
  "language_info": {
   "codemirror_mode": {
    "name": "ipython",
    "version": 3
   },
   "file_extension": ".py",
   "mimetype": "text/x-python",
   "name": "python",
   "nbconvert_exporter": "python",
   "pygments_lexer": "ipython3",
   "version": "3.7.0"
  }
 },
 "nbformat": 4,
 "nbformat_minor": 2
}
